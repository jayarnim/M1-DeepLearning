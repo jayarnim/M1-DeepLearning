{
  "nbformat": 4,
  "nbformat_minor": 0,
  "metadata": {
    "colab": {
      "provenance": [],
      "toc_visible": true,
      "authorship_tag": "ABX9TyNGbNd2sGx5s2X7QfJSgmRo",
      "include_colab_link": true
    },
    "kernelspec": {
      "name": "python3",
      "display_name": "Python 3"
    },
    "language_info": {
      "name": "python"
    }
  },
  "cells": [
    {
      "cell_type": "markdown",
      "metadata": {
        "id": "view-in-github",
        "colab_type": "text"
      },
      "source": [
        "<a href=\"https://colab.research.google.com/github/jayarnim/M1-DeepLearning/blob/main/skills/2_Layer.ipynb\" target=\"_parent\"><img src=\"https://colab.research.google.com/assets/colab-badge.svg\" alt=\"Open In Colab\"/></a>"
      ]
    },
    {
      "cell_type": "code",
      "source": [
        "import tensorflow as tf\n",
        "from tensorflow.keras.layers import Layer"
      ],
      "metadata": {
        "id": "JHprDftmpbWD"
      },
      "execution_count": 1,
      "outputs": []
    },
    {
      "cell_type": "code",
      "source": [
        "class SimpleDense(Layer):\n",
        "\n",
        "    # 생성자\n",
        "    def __init__(self, units, activation=None):\n",
        "        # tensorflow.keras.layers.Layer 필드 상속\n",
        "        super().__init__()\n",
        "        # attribute 노드 갯수 정의\n",
        "        self.units = units\n",
        "        # attribute 활성화 함수 정의\n",
        "        self.activation = activation\n",
        "\n",
        "    # 클래스의 함수화\n",
        "    # 층 호환(Layer Compatibility)을 위한 자동 크기 추론\n",
        "    def __call__(self, inputs):\n",
        "        if not self.built:\n",
        "            self.build(inputs.shape)\n",
        "            self.built = True\n",
        "        return self.call(inputs)\n",
        "\n",
        "    # 초기 상태\n",
        "    def build(self, input_shape):\n",
        "        # 속성 갯수를 입력값으로 정의\n",
        "        input_dim = input_shape[-1]\n",
        "        # 가중치 정의\n",
        "        self.W = self.add_weight(\n",
        "            shape = (input_dim, self.units),\n",
        "            initializer = \"random_normal\"\n",
        "            )\n",
        "        # 편향 정의\n",
        "        self.b = self.add_weight(\n",
        "            shape = (self.units,),\n",
        "            initializer = \"zeros\"\n",
        "            )\n",
        "\n",
        "    # 순전파 연산\n",
        "    def call(self, inputs):\n",
        "        # 순입력 함수로 계산한 값\n",
        "        y = tf.matmul(inputs, self.W) + self.b\n",
        "        # 활성화 함수로 계산한 값\n",
        "        if self.activation is not None:\n",
        "            y = self.activation(y)\n",
        "        return y\n",
        "\n",
        "    # 가중치(self.W) 및 편향(self.b)을 원소로 가지는 weights 를 필드로 추가\n",
        "    @property\n",
        "    def weights(self):\n",
        "        return [self.W, self.b]"
      ],
      "metadata": {
        "id": "fpK6rJFpphqe"
      },
      "execution_count": 2,
      "outputs": []
    },
    {
      "cell_type": "code",
      "source": [
        "input_tensor = tf.ones(shape = (2, 28*28))"
      ],
      "metadata": {
        "id": "m6yrz1ntuyFh"
      },
      "execution_count": 3,
      "outputs": []
    },
    {
      "cell_type": "code",
      "source": [
        "# init\n",
        "my_dense = SimpleDense(units = 32, activation = tf.nn.relu)"
      ],
      "metadata": {
        "id": "NiSVmcY1uocf"
      },
      "execution_count": 4,
      "outputs": []
    },
    {
      "cell_type": "code",
      "source": [
        "# __call__\n",
        "output_tensor = my_dense(input_tensor)"
      ],
      "metadata": {
        "id": "IKvo2NH-u4zQ"
      },
      "execution_count": 5,
      "outputs": []
    },
    {
      "cell_type": "code",
      "source": [
        "my_dense.weights"
      ],
      "metadata": {
        "colab": {
          "base_uri": "https://localhost:8080/"
        },
        "id": "ij0b3rraIKmq",
        "outputId": "6c13664c-4513-4554-89a9-ec4b2a594998"
      },
      "execution_count": 6,
      "outputs": [
        {
          "output_type": "execute_result",
          "data": {
            "text/plain": [
              "[<tf.Variable 'Variable:0' shape=(784, 32) dtype=float32, numpy=\n",
              " array([[-0.05473579, -0.00476685,  0.02139034, ..., -0.02768694,\n",
              "          0.13078451, -0.01606729],\n",
              "        [-0.03461669, -0.16855772,  0.00591633, ..., -0.04401868,\n",
              "          0.09141424, -0.09754901],\n",
              "        [-0.08468332, -0.01564325, -0.0432804 , ...,  0.08998315,\n",
              "          0.0107043 ,  0.05905263],\n",
              "        ...,\n",
              "        [-0.0042083 ,  0.0248778 , -0.02648951, ..., -0.11246993,\n",
              "          0.05804367, -0.05633357],\n",
              "        [-0.03949193, -0.00293818,  0.00723151, ...,  0.08712145,\n",
              "         -0.04007688, -0.0329682 ],\n",
              "        [-0.01834183,  0.08040272, -0.00564949, ...,  0.03132436,\n",
              "         -0.07284755,  0.04250565]], dtype=float32)>,\n",
              " <tf.Variable 'Variable:0' shape=(32,) dtype=float32, numpy=\n",
              " array([0., 0., 0., 0., 0., 0., 0., 0., 0., 0., 0., 0., 0., 0., 0., 0., 0.,\n",
              "        0., 0., 0., 0., 0., 0., 0., 0., 0., 0., 0., 0., 0., 0., 0.],\n",
              "       dtype=float32)>]"
            ]
          },
          "metadata": {},
          "execution_count": 6
        }
      ]
    },
    {
      "cell_type": "code",
      "source": [
        "output_tensor"
      ],
      "metadata": {
        "colab": {
          "base_uri": "https://localhost:8080/"
        },
        "id": "qyTM9706u-SC",
        "outputId": "eaa9f07e-70b9-41e8-9e65-332ab9ed4ea5"
      },
      "execution_count": 7,
      "outputs": [
        {
          "output_type": "execute_result",
          "data": {
            "text/plain": [
              "<tf.Tensor: shape=(2, 32), dtype=float32, numpy=\n",
              "array([[0.        , 0.5701773 , 0.        , 0.        , 0.7748363 ,\n",
              "        1.079584  , 0.        , 0.        , 0.5643964 , 0.68122816,\n",
              "        3.047016  , 0.        , 0.        , 0.21870418, 1.5347699 ,\n",
              "        0.02159846, 0.        , 0.        , 0.        , 0.40891773,\n",
              "        0.29836527, 3.1398964 , 1.0893886 , 0.        , 0.        ,\n",
              "        1.4530611 , 0.8696098 , 0.        , 0.        , 0.        ,\n",
              "        0.        , 0.9624073 ],\n",
              "       [0.        , 0.5701773 , 0.        , 0.        , 0.7748363 ,\n",
              "        1.079584  , 0.        , 0.        , 0.5643964 , 0.68122816,\n",
              "        3.047016  , 0.        , 0.        , 0.21870418, 1.5347699 ,\n",
              "        0.02159846, 0.        , 0.        , 0.        , 0.40891773,\n",
              "        0.29836527, 3.1398964 , 1.0893886 , 0.        , 0.        ,\n",
              "        1.4530611 , 0.8696098 , 0.        , 0.        , 0.        ,\n",
              "        0.        , 0.9624073 ]], dtype=float32)>"
            ]
          },
          "metadata": {},
          "execution_count": 7
        }
      ]
    }
  ]
}