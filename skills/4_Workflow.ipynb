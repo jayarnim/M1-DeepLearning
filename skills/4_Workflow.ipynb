{
  "nbformat": 4,
  "nbformat_minor": 0,
  "metadata": {
    "colab": {
      "provenance": [],
      "mount_file_id": "1yS5g74yaIdgsp36OvAO6D_6Xyl-mlaic",
      "authorship_tag": "ABX9TyNGWGM8YFpHhTJwL/nt1nh5",
      "include_colab_link": true
    },
    "kernelspec": {
      "name": "python3",
      "display_name": "Python 3"
    },
    "language_info": {
      "name": "python"
    }
  },
  "cells": [
    {
      "cell_type": "markdown",
      "metadata": {
        "id": "view-in-github",
        "colab_type": "text"
      },
      "source": [
        "<a href=\"https://colab.research.google.com/github/jayarnim/M1-DeepLearning/blob/main/skills/4_Workflow.ipynb\" target=\"_parent\"><img src=\"https://colab.research.google.com/assets/colab-badge.svg\" alt=\"Open In Colab\"/></a>"
      ]
    },
    {
      "cell_type": "code",
      "execution_count": null,
      "metadata": {
        "id": "eQEryXQiVHnf"
      },
      "outputs": [],
      "source": [
        "import math\n",
        "import tensorflow as tf"
      ]
    },
    {
      "cell_type": "code",
      "source": [
        "import tensorflow.keras.datasets.mnist as mnist\n",
        "\n",
        "(train_images, train_labels), (test_images, test_labels) = mnist.load_data()"
      ],
      "metadata": {
        "id": "jcm9dqMEq0pC",
        "colab": {
          "base_uri": "https://localhost:8080/"
        },
        "outputId": "25ec6fcb-50cd-42de-858d-c1ef5136accf"
      },
      "execution_count": null,
      "outputs": [
        {
          "output_type": "stream",
          "name": "stdout",
          "text": [
            "Downloading data from https://storage.googleapis.com/tensorflow/tf-keras-datasets/mnist.npz\n",
            "11490434/11490434 [==============================] - 1s 0us/step\n"
          ]
        }
      ]
    },
    {
      "cell_type": "code",
      "source": [
        "model = tf.keras.Sequential(\n",
        "    [\n",
        "        tf.keras.layers.Input(shape = (28, 28,)),\n",
        "        tf.keras.layers.Flatten(),\n",
        "        tf.keras.layers.Dense(units = 512, activation = \"relu\"),\n",
        "        tf.keras.layers.Dense(units = 10, activation = \"softmax\")\n",
        "        ]\n",
        "    )"
      ],
      "metadata": {
        "id": "0g8g66G1rc6y"
      },
      "execution_count": null,
      "outputs": []
    },
    {
      "cell_type": "code",
      "source": [
        "model.compile(\n",
        "    optimizer = \"rmsprop\",\n",
        "    loss = \"sparse_categorical_crossentropy\",\n",
        "    metrics = [\"accuracy\"]\n",
        "    )"
      ],
      "metadata": {
        "id": "bdWfd3DdryX1"
      },
      "execution_count": null,
      "outputs": []
    },
    {
      "cell_type": "markdown",
      "source": [
        "# fit"
      ],
      "metadata": {
        "id": "3lPaOEL5VJyT"
      }
    },
    {
      "cell_type": "code",
      "source": [
        "# model.fit(\n",
        "#     x = train_images,\n",
        "#     y = train_labels,\n",
        "#     epochs = 5,\n",
        "#     batch_size = 128,\n",
        "#     validation_data = (test_images, test_labels)\n",
        "#     )"
      ],
      "metadata": {
        "id": "17NJICJCsAi3",
        "colab": {
          "base_uri": "https://localhost:8080/"
        },
        "outputId": "94becebf-c65a-4bb6-9a06-7a8fb0653ce8"
      },
      "execution_count": null,
      "outputs": [
        {
          "output_type": "stream",
          "name": "stdout",
          "text": [
            "Epoch 1/5\n",
            "469/469 [==============================] - 6s 12ms/step - loss: 5.2686 - accuracy: 0.8986 - val_loss: 1.1152 - val_accuracy: 0.9378\n",
            "Epoch 2/5\n",
            "469/469 [==============================] - 7s 15ms/step - loss: 0.7308 - accuracy: 0.9533 - val_loss: 0.6148 - val_accuracy: 0.9556\n",
            "Epoch 3/5\n",
            "469/469 [==============================] - 6s 13ms/step - loss: 0.4629 - accuracy: 0.9660 - val_loss: 0.6735 - val_accuracy: 0.9572\n",
            "Epoch 4/5\n",
            "469/469 [==============================] - 5s 11ms/step - loss: 0.3679 - accuracy: 0.9714 - val_loss: 0.6117 - val_accuracy: 0.9631\n",
            "Epoch 5/5\n",
            "469/469 [==============================] - 7s 15ms/step - loss: 0.3089 - accuracy: 0.9773 - val_loss: 0.6218 - val_accuracy: 0.9652\n"
          ]
        },
        {
          "output_type": "execute_result",
          "data": {
            "text/plain": [
              "<keras.src.callbacks.History at 0x7e87605c7550>"
            ]
          },
          "metadata": {},
          "execution_count": 7
        }
      ]
    },
    {
      "cell_type": "markdown",
      "source": [
        "## Optimizer"
      ],
      "metadata": {
        "id": "yRhsLYOpstn8"
      }
    },
    {
      "cell_type": "code",
      "source": [
        "learning_rate = 1e-3\n",
        "optimizer = tf.keras.optimizers.SGD(learning_rate = learning_rate)\n",
        "\n",
        "def update_weights(gradients, weights):\n",
        "    # for g, w in zip(gradients, weights):\n",
        "    #     w.assign_sub(g * learning_rate)\n",
        "    optimizer.apply_gradients(zip(gradients, weights))"
      ],
      "metadata": {
        "id": "HPa4a3ueVNS1"
      },
      "execution_count": null,
      "outputs": []
    },
    {
      "cell_type": "markdown",
      "source": [
        "## Backward Path\n",
        "\n",
        "```\n",
        "with tf.GradientTape() as tape:\n",
        "    tape.watch(x)\n",
        "    y = x**2\n",
        "\n",
        "dy_dx = tape.gradient(y, x)\n",
        "```"
      ],
      "metadata": {
        "id": "vtrEzBr7swpd"
      }
    },
    {
      "cell_type": "code",
      "source": [
        "loss_function = tf.keras.losses.sparse_categorical_crossentropy\n",
        "\n",
        "def one_training_step(model, images_batch, labels_batch):\n",
        "    with tf.GradientTape() as tape:\n",
        "        predictions = model(images_batch)\n",
        "        per_sample_losses = loss_function(labels_batch, predictions)\n",
        "        average_loss = tf.reduce_mean(per_sample_losses)\n",
        "\n",
        "    gradients = tape.gradient(average_loss, model.weights)\n",
        "    update_weights(gradients, model.weights)\n",
        "    return average_loss"
      ],
      "metadata": {
        "id": "t-I5BOpgtEet"
      },
      "execution_count": null,
      "outputs": []
    },
    {
      "cell_type": "markdown",
      "source": [
        "## Batch Iterater"
      ],
      "metadata": {
        "id": "zV8x4Bcts57g"
      }
    },
    {
      "cell_type": "code",
      "source": [
        "class BatchGenerator:\n",
        "    def __init__(self, images, labels, batch_size = 128):\n",
        "        assert len(images) == len(labels)\n",
        "        self.index = 0\n",
        "        self.images = images\n",
        "        self.labels = labels\n",
        "        self.batch_size = batch_size\n",
        "        self.num_batches = math.ceil(len(images) / batch_size)\n",
        "\n",
        "    def next(self):\n",
        "        images = self.images[self.index : self.index + self.batch_size]\n",
        "        labels = self.labels[self.index : self.index + self.batch_size]\n",
        "        self.index += self.batch_size\n",
        "        return images, labels"
      ],
      "metadata": {
        "id": "q-0rHILQVK_k"
      },
      "execution_count": null,
      "outputs": []
    },
    {
      "cell_type": "markdown",
      "source": [
        "## Fit"
      ],
      "metadata": {
        "id": "c8ifCEjUs_jm"
      }
    },
    {
      "cell_type": "code",
      "source": [
        "def fit(model, images, labels, epochs, batch_size = 128):\n",
        "    for epoch_counter in range(epochs):\n",
        "        print(f\"epoch : {epoch_counter}\")\n",
        "        batch_generator = BatchGenerator(images, labels, batch_size)\n",
        "\n",
        "        for batch_counter in range(batch_generator.num_batches):\n",
        "            images_batch, labels_batch  = batch_generator.next()\n",
        "            loss = one_training_step(model, images_batch, labels_batch)\n",
        "            if batch_counter % 100 == 0:\n",
        "                print(f\"{batch_counter} 번째 배치 손실 : {loss:2f}\")"
      ],
      "metadata": {
        "id": "r7oczeSavlEF"
      },
      "execution_count": null,
      "outputs": []
    },
    {
      "cell_type": "markdown",
      "source": [
        "# Callback\n",
        "\n",
        "- `tf.keras.callbacks.EarlyStopping` : 검증 손실이 더 이상 향상되지 않을 경우 학습 조기 종료\n",
        "- `tf.keras.callbacks.ModelCheckpoint` : 훈련하는 동안 어떤 지점에서 모델의 현재 가중치를 저장\n",
        "- `tf.keras.callbacks.TensorBoard`\n",
        "- `tf.keras.LearningRateScheduler`\n",
        "- `tf.keras.ReduceLROnPlateau`\n",
        "- `tf.keras.callbacks.CSVLogger`"
      ],
      "metadata": {
        "id": "H-C9iZGIVNk2"
      }
    },
    {
      "cell_type": "markdown",
      "source": [
        "## early stopping"
      ],
      "metadata": {
        "id": "jId7vyVn1A8Q"
      }
    },
    {
      "cell_type": "code",
      "source": [
        "# 학습 조기 종료\n",
        "early_stopping = tf.keras.callbacks.EarlyStopping(\n",
        "    # 검증 정확도에 대하여 모니터링함\n",
        "    monitor = \"val_accuracy\",\n",
        "    # 2회 이상 개선되지 않을 경우 학습 조기 종료\n",
        "    patience = 2\n",
        "    )\n",
        "\n",
        "callback_list = [early_stopping]"
      ],
      "metadata": {
        "id": "UD3b2xfw1Dl3"
      },
      "execution_count": null,
      "outputs": []
    },
    {
      "cell_type": "code",
      "source": [
        "model.compile(\n",
        "    optimizer = \"rmsprop\",\n",
        "    loss = \"sparse_categorical_crossentropy\",\n",
        "    metrics = [\"accuracy\"]\n",
        "    )\n",
        "\n",
        "model.fit(\n",
        "    x = train_images,\n",
        "    y = train_labels,\n",
        "    epochs = 10,\n",
        "    batch_size = 128,\n",
        "    callbacks = callback_list,\n",
        "    validation_data = (test_images, test_labels)\n",
        "    )"
      ],
      "metadata": {
        "colab": {
          "base_uri": "https://localhost:8080/"
        },
        "id": "_qziC7CD1GDN",
        "outputId": "4b42b21c-b629-4d8b-b675-aa9e9c110ba8"
      },
      "execution_count": null,
      "outputs": [
        {
          "output_type": "stream",
          "name": "stdout",
          "text": [
            "Epoch 1/10\n",
            "469/469 [==============================] - 10s 19ms/step - loss: 0.2629 - accuracy: 0.9238 - val_loss: 0.1362 - val_accuracy: 0.9598\n",
            "Epoch 2/10\n",
            "469/469 [==============================] - 10s 21ms/step - loss: 0.1065 - accuracy: 0.9691 - val_loss: 0.1041 - val_accuracy: 0.9692\n",
            "Epoch 3/10\n",
            "469/469 [==============================] - 5s 11ms/step - loss: 0.0689 - accuracy: 0.9798 - val_loss: 0.0780 - val_accuracy: 0.9762\n",
            "Epoch 4/10\n",
            "469/469 [==============================] - 5s 11ms/step - loss: 0.0507 - accuracy: 0.9844 - val_loss: 0.0698 - val_accuracy: 0.9787\n",
            "Epoch 5/10\n",
            "469/469 [==============================] - 4s 9ms/step - loss: 0.0379 - accuracy: 0.9889 - val_loss: 0.0674 - val_accuracy: 0.9790\n",
            "Epoch 6/10\n",
            "469/469 [==============================] - 5s 11ms/step - loss: 0.0288 - accuracy: 0.9916 - val_loss: 0.0612 - val_accuracy: 0.9827\n",
            "Epoch 7/10\n",
            "469/469 [==============================] - 5s 10ms/step - loss: 0.0220 - accuracy: 0.9936 - val_loss: 0.0658 - val_accuracy: 0.9813\n",
            "Epoch 8/10\n",
            "469/469 [==============================] - 4s 9ms/step - loss: 0.0165 - accuracy: 0.9949 - val_loss: 0.0651 - val_accuracy: 0.9805\n"
          ]
        },
        {
          "output_type": "execute_result",
          "data": {
            "text/plain": [
              "<keras.src.callbacks.History at 0x7ffa549038e0>"
            ]
          },
          "metadata": {},
          "execution_count": 12
        }
      ]
    },
    {
      "cell_type": "markdown",
      "source": [
        "## model check point"
      ],
      "metadata": {
        "id": "2V7954p71Gvo"
      }
    },
    {
      "cell_type": "code",
      "source": [
        "# 매 에포크의 마지막 배치에서 가중치 저장\n",
        "model_check_point = tf.keras.callbacks.ModelCheckpoint(\n",
        "    # 저장 경로\n",
        "    filepath = \"checkpoint_path.keras\",\n",
        "    # 모니터링할 지표\n",
        "    monitor = \"val_loss\",\n",
        "    # 모니터링할 지표를 기준으로 가장 성능이 좋은 모델만 저장\n",
        "    save_best_only = True,\n",
        "    # 포맷 형식 설정\n",
        "    save_format = \"keras\"\n",
        "    )\n",
        "\n",
        "callback_list = [model_check_point]"
      ],
      "metadata": {
        "id": "mXtQ7m3YVPGL"
      },
      "execution_count": null,
      "outputs": []
    },
    {
      "cell_type": "code",
      "source": [
        "model.compile(\n",
        "    optimizer = \"rmsprop\",\n",
        "    loss = \"sparse_categorical_crossentropy\",\n",
        "    metrics = [\"accuracy\"]\n",
        "    )\n",
        "\n",
        "model.fit(\n",
        "    x = train_images,\n",
        "    y = train_labels,\n",
        "    epochs = 10,\n",
        "    batch_size = 128,\n",
        "    callbacks = callback_list,\n",
        "    validation_data = (test_images, test_labels)\n",
        "    )"
      ],
      "metadata": {
        "colab": {
          "base_uri": "https://localhost:8080/"
        },
        "id": "NvCvIXVmzFa2",
        "outputId": "4f145a89-83fd-41c4-9238-b56b29c0a53c"
      },
      "execution_count": null,
      "outputs": [
        {
          "output_type": "stream",
          "name": "stdout",
          "text": [
            "Epoch 1/10\n",
            "469/469 [==============================] - 6s 11ms/step - loss: 0.0127 - accuracy: 0.9966 - val_loss: 0.0671 - val_accuracy: 0.9812\n",
            "Epoch 2/10\n",
            "469/469 [==============================] - 6s 14ms/step - loss: 0.0095 - accuracy: 0.9977 - val_loss: 0.0650 - val_accuracy: 0.9829\n",
            "Epoch 3/10\n",
            "469/469 [==============================] - 4s 9ms/step - loss: 0.0068 - accuracy: 0.9985 - val_loss: 0.0679 - val_accuracy: 0.9813\n",
            "Epoch 4/10\n",
            "469/469 [==============================] - 4s 9ms/step - loss: 0.0048 - accuracy: 0.9990 - val_loss: 0.0665 - val_accuracy: 0.9826\n",
            "Epoch 5/10\n",
            "469/469 [==============================] - 7s 16ms/step - loss: 0.0033 - accuracy: 0.9995 - val_loss: 0.0635 - val_accuracy: 0.9832\n",
            "Epoch 6/10\n",
            "469/469 [==============================] - 4s 9ms/step - loss: 0.0024 - accuracy: 0.9996 - val_loss: 0.0707 - val_accuracy: 0.9821\n",
            "Epoch 7/10\n",
            "469/469 [==============================] - 7s 14ms/step - loss: 0.0017 - accuracy: 0.9997 - val_loss: 0.0693 - val_accuracy: 0.9827\n",
            "Epoch 8/10\n",
            "469/469 [==============================] - 6s 12ms/step - loss: 0.0010 - accuracy: 0.9999 - val_loss: 0.0673 - val_accuracy: 0.9836\n",
            "Epoch 9/10\n",
            "469/469 [==============================] - 4s 9ms/step - loss: 6.8517e-04 - accuracy: 1.0000 - val_loss: 0.0674 - val_accuracy: 0.9832\n",
            "Epoch 10/10\n",
            "469/469 [==============================] - 5s 11ms/step - loss: 4.8031e-04 - accuracy: 1.0000 - val_loss: 0.0684 - val_accuracy: 0.9836\n"
          ]
        },
        {
          "output_type": "execute_result",
          "data": {
            "text/plain": [
              "<keras.src.callbacks.History at 0x7ffa54684fd0>"
            ]
          },
          "metadata": {},
          "execution_count": 14
        }
      ]
    },
    {
      "cell_type": "code",
      "source": [
        "# 모델 저장하기\n",
        "model.save('checkpoint_path.keras')"
      ],
      "metadata": {
        "id": "IM7GD4POzj3x"
      },
      "execution_count": null,
      "outputs": []
    },
    {
      "cell_type": "code",
      "source": [
        "# 모델 불러오기\n",
        "model = tf.keras.models.load_model(\"checkpoint_path.keras\")"
      ],
      "metadata": {
        "id": "rd3zgc6W0OVB"
      },
      "execution_count": null,
      "outputs": []
    },
    {
      "cell_type": "markdown",
      "source": [
        "## 사용자 정의 Callback\n",
        "\n",
        "- `def`\n",
        "    - `on_train_begin(logs)` : 훈련 시작 시 호출\n",
        "    - `on_train_end(logs)` : 훈련 종료 시 호출\n",
        "    - `on_epoch_begin(epoch, logs)` : 각 에포크 시작 시 호출\n",
        "    - `on_epoch_end(epoch, logs)` : 각 에포크 종료 시 호출\n",
        "    - `on_batch_begin(batch, logs)` : 각 배치 처리 시작 전 호출\n",
        "    - `on_batch_end(batch, logs)` : 각 배치 처리 종료 후 호출\n",
        "\n",
        "- `params`\n",
        "    - `logs` : 훈련 실행 정보, 이전 배치 정보, 이전 에포크 정보가 담긴 딕셔너리"
      ],
      "metadata": {
        "id": "xlUaQeG-Bcfz"
      }
    },
    {
      "cell_type": "code",
      "source": [
        "import os\n",
        "from matplotlib import pyplot as plt\n",
        "\n",
        "class LossHistory(tf.keras.callbacks.Callback):\n",
        "    def __init__(self, save_dir):\n",
        "        super().__init__()\n",
        "        self.save_dir = save_dir # 저장할 디렉토리 지정\n",
        "\n",
        "    def on_train_begin(self, logs):\n",
        "        self.per_batch_losses = []\n",
        "\n",
        "    def on_batch_end(self, batch, logs):\n",
        "        self.per_batch_losses.append(logs.get(\"loss\"))\n",
        "\n",
        "    def on_epoch_end(self, epoch, logs):\n",
        "        plt.clf()\n",
        "        plt.plot(\n",
        "            range(len(self.per_batch_losses)),\n",
        "            self.per_batch_losses,\n",
        "            label = \"Training loss for each batch\"\n",
        "            )\n",
        "        plt.xlabel(f\"Batch (epoch {epoch})\")\n",
        "        plt.ylabel(\"Loss\")\n",
        "        plt.legend()\n",
        "        plt.savefig(\n",
        "            os.path.join(\n",
        "                self.save_dir,\n",
        "                f\"plot_at_epoch_{epoch}.png\"\n",
        "                )\n",
        "            )\n",
        "        self.per_batch_losses = []"
      ],
      "metadata": {
        "id": "texfe6iqBeqs"
      },
      "execution_count": null,
      "outputs": []
    }
  ]
}