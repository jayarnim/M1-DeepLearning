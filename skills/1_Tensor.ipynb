{
  "nbformat": 4,
  "nbformat_minor": 0,
  "metadata": {
    "colab": {
      "provenance": [],
      "toc_visible": true,
      "authorship_tag": "ABX9TyNX4BTsVV6dDCCa5/QZQA0H",
      "include_colab_link": true
    },
    "kernelspec": {
      "name": "python3",
      "display_name": "Python 3"
    },
    "language_info": {
      "name": "python"
    }
  },
  "cells": [
    {
      "cell_type": "markdown",
      "metadata": {
        "id": "view-in-github",
        "colab_type": "text"
      },
      "source": [
        "<a href=\"https://colab.research.google.com/github/jayarnim/M1-DeepLearning/blob/main/skills/1_Tensor.ipynb\" target=\"_parent\"><img src=\"https://colab.research.google.com/assets/colab-badge.svg\" alt=\"Open In Colab\"/></a>"
      ]
    },
    {
      "cell_type": "code",
      "execution_count": null,
      "metadata": {
        "id": "xSCTyk97z5RL"
      },
      "outputs": [],
      "source": [
        "import tensorflow as tf"
      ]
    },
    {
      "cell_type": "markdown",
      "source": [
        "# 텐서의 이해\n",
        "\n",
        "<p align=\"center\"><img src=\"https://user-images.githubusercontent.com/116495744/228464597-fac5d8dc-6d04-4874-9c76-30155fb88035.png\" width=100%/></p>\n",
        "\n",
        "- **정의** : 데이터를 저장하기 위한 선형대수 형태의 컨테이너"
      ],
      "metadata": {
        "id": "qHqwYoTpYlTD"
      }
    },
    {
      "cell_type": "markdown",
      "source": [
        "# 속성"
      ],
      "metadata": {
        "id": "VqgjocPH9LUc"
      }
    },
    {
      "cell_type": "code",
      "source": [
        "from tensorflow.keras.datasets import mnist\n",
        "(train_images, train_labels), (test_images, test_labels) = mnist.load_data()"
      ],
      "metadata": {
        "colab": {
          "base_uri": "https://localhost:8080/"
        },
        "id": "DeIvGRLv4xIc",
        "outputId": "2289d3e0-84e6-475e-84a3-5afdcb9968b9"
      },
      "execution_count": null,
      "outputs": [
        {
          "output_type": "stream",
          "name": "stdout",
          "text": [
            "Downloading data from https://storage.googleapis.com/tensorflow/tf-keras-datasets/mnist.npz\n",
            "11490434/11490434 [==============================] - 1s 0us/step\n"
          ]
        }
      ]
    },
    {
      "cell_type": "markdown",
      "source": [
        "## 축의 갯수\n",
        "\n",
        "- 관측치 축(Sample Axis) : 첫 번째 축으로서 텐서에 포함되어 있는 관측치 갯수"
      ],
      "metadata": {
        "id": "8__AqcaAAHBj"
      }
    },
    {
      "cell_type": "code",
      "source": [
        "train_images.ndim"
      ],
      "metadata": {
        "colab": {
          "base_uri": "https://localhost:8080/"
        },
        "id": "W7SLOKhN9Uhd",
        "outputId": "e4bf583a-52eb-488a-c55c-94604301929d"
      },
      "execution_count": null,
      "outputs": [
        {
          "output_type": "execute_result",
          "data": {
            "text/plain": [
              "3"
            ]
          },
          "metadata": {},
          "execution_count": 22
        }
      ]
    },
    {
      "cell_type": "markdown",
      "source": [
        "## 크기\n",
        "\n",
        "- **시계열** : `(sample, timestep, feature)`\n",
        "- **이미지** : `(sample, height, width, channel)`\n",
        "- **동영상** : `(sample, frames, height, width, channel)`"
      ],
      "metadata": {
        "id": "_ykWi6NFAIw5"
      }
    },
    {
      "cell_type": "code",
      "source": [
        "train_images.shape"
      ],
      "metadata": {
        "colab": {
          "base_uri": "https://localhost:8080/"
        },
        "id": "rIlbvtQv9OXo",
        "outputId": "4b70a4d3-c3ff-44ae-ea96-fed6e77c7614"
      },
      "execution_count": null,
      "outputs": [
        {
          "output_type": "execute_result",
          "data": {
            "text/plain": [
              "(60000, 28, 28)"
            ]
          },
          "metadata": {},
          "execution_count": 21
        }
      ]
    },
    {
      "cell_type": "markdown",
      "source": [
        "## 자료형\n",
        "\n",
        "- **정수형** : `tf.int64`, `tf.int32`, `tf.int16`, `tf.int8`\n",
        "- **실수형** : `tf.float64`, `tf.float32`, `tf.float16`\n",
        "- **문자열** : `tf.string`"
      ],
      "metadata": {
        "id": "w1jkMcBW97rl"
      }
    },
    {
      "cell_type": "code",
      "source": [
        "train_images.dtype"
      ],
      "metadata": {
        "colab": {
          "base_uri": "https://localhost:8080/"
        },
        "id": "PJp2FGQIASe2",
        "outputId": "c43e90c6-bf7b-4486-89bd-4a841fc8926b"
      },
      "execution_count": null,
      "outputs": [
        {
          "output_type": "execute_result",
          "data": {
            "text/plain": [
              "dtype('uint8')"
            ]
          },
          "metadata": {},
          "execution_count": 23
        }
      ]
    },
    {
      "cell_type": "markdown",
      "source": [
        "# 상수 텐서"
      ],
      "metadata": {
        "id": "_NY2ECjbz9Ix"
      }
    },
    {
      "cell_type": "markdown",
      "source": [
        "## 상수 텐서"
      ],
      "metadata": {
        "id": "EAzD0sCo3et6"
      }
    },
    {
      "cell_type": "code",
      "source": [
        "value_list = [1, 2, 3, 4, 5, 6, 7, 8, 9]\n",
        "\n",
        "x = tf.constant(\n",
        "    value = value_list,\n",
        "    dtype = tf.float32,\n",
        "    shape = (3,3),\n",
        "    name = \"const_tensor\"\n",
        "    )\n",
        "\n",
        "print(x)"
      ],
      "metadata": {
        "colab": {
          "base_uri": "https://localhost:8080/"
        },
        "id": "OTsMWEZL0PcD",
        "outputId": "596b34cb-d279-4ad6-c8ef-09f03138654f"
      },
      "execution_count": null,
      "outputs": [
        {
          "output_type": "stream",
          "name": "stdout",
          "text": [
            "tf.Tensor(\n",
            "[[1. 2. 3.]\n",
            " [4. 5. 6.]\n",
            " [7. 8. 9.]], shape=(3, 3), dtype=float32)\n"
          ]
        }
      ]
    },
    {
      "cell_type": "code",
      "source": [
        "# 상수 텐서는 원소에 대하여 변경 불가능한 자료구조임\n",
        "# x[2,2] = 10"
      ],
      "metadata": {
        "colab": {
          "base_uri": "https://localhost:8080/",
          "height": 180
        },
        "id": "_BvUSPyy3jMp",
        "outputId": "3d3d789a-9700-4570-d393-61fc1a550fda"
      },
      "execution_count": null,
      "outputs": [
        {
          "output_type": "error",
          "ename": "TypeError",
          "evalue": "ignored",
          "traceback": [
            "\u001b[0;31m---------------------------------------------------------------------------\u001b[0m",
            "\u001b[0;31mTypeError\u001b[0m                                 Traceback (most recent call last)",
            "\u001b[0;32m<ipython-input-13-8c6ffb82e2d0>\u001b[0m in \u001b[0;36m<cell line: 1>\u001b[0;34m()\u001b[0m\n\u001b[0;32m----> 1\u001b[0;31m \u001b[0mx\u001b[0m\u001b[0;34m[\u001b[0m\u001b[0;36m2\u001b[0m\u001b[0;34m,\u001b[0m\u001b[0;36m2\u001b[0m\u001b[0;34m]\u001b[0m \u001b[0;34m=\u001b[0m \u001b[0;36m10\u001b[0m\u001b[0;34m\u001b[0m\u001b[0;34m\u001b[0m\u001b[0m\n\u001b[0m",
            "\u001b[0;31mTypeError\u001b[0m: 'tensorflow.python.framework.ops.EagerTensor' object does not support item assignment"
          ]
        }
      ]
    },
    {
      "cell_type": "markdown",
      "source": [
        "## 특수한 텐서"
      ],
      "metadata": {
        "id": "_LJidtOM3WcD"
      }
    },
    {
      "cell_type": "markdown",
      "source": [
        "### 0텐서"
      ],
      "metadata": {
        "id": "tgTGkGrX3wKm"
      }
    },
    {
      "cell_type": "code",
      "source": [
        "x = tf.zeros(\n",
        "    shape = (10,10)\n",
        "    )\n",
        "\n",
        "print(x)"
      ],
      "metadata": {
        "colab": {
          "base_uri": "https://localhost:8080/"
        },
        "id": "o7og10cez-bC",
        "outputId": "4bdebc1d-d220-488f-9aff-18bcd5ed9445"
      },
      "execution_count": null,
      "outputs": [
        {
          "output_type": "stream",
          "name": "stdout",
          "text": [
            "tf.Tensor(\n",
            "[[0. 0. 0. 0. 0. 0. 0. 0. 0. 0.]\n",
            " [0. 0. 0. 0. 0. 0. 0. 0. 0. 0.]\n",
            " [0. 0. 0. 0. 0. 0. 0. 0. 0. 0.]\n",
            " [0. 0. 0. 0. 0. 0. 0. 0. 0. 0.]\n",
            " [0. 0. 0. 0. 0. 0. 0. 0. 0. 0.]\n",
            " [0. 0. 0. 0. 0. 0. 0. 0. 0. 0.]\n",
            " [0. 0. 0. 0. 0. 0. 0. 0. 0. 0.]\n",
            " [0. 0. 0. 0. 0. 0. 0. 0. 0. 0.]\n",
            " [0. 0. 0. 0. 0. 0. 0. 0. 0. 0.]\n",
            " [0. 0. 0. 0. 0. 0. 0. 0. 0. 0.]], shape=(10, 10), dtype=float32)\n"
          ]
        }
      ]
    },
    {
      "cell_type": "markdown",
      "source": [
        "### 1텐서"
      ],
      "metadata": {
        "id": "cCmk1T503xof"
      }
    },
    {
      "cell_type": "code",
      "source": [
        "x = tf.ones(\n",
        "    shape = (10,10)\n",
        "    )\n",
        "print(x)"
      ],
      "metadata": {
        "colab": {
          "base_uri": "https://localhost:8080/"
        },
        "id": "EHWnisOx0CQy",
        "outputId": "6a493f4c-9929-47b6-e397-6064acfe94b8"
      },
      "execution_count": null,
      "outputs": [
        {
          "output_type": "stream",
          "name": "stdout",
          "text": [
            "tf.Tensor(\n",
            "[[1. 1. 1. 1. 1. 1. 1. 1. 1. 1.]\n",
            " [1. 1. 1. 1. 1. 1. 1. 1. 1. 1.]\n",
            " [1. 1. 1. 1. 1. 1. 1. 1. 1. 1.]\n",
            " [1. 1. 1. 1. 1. 1. 1. 1. 1. 1.]\n",
            " [1. 1. 1. 1. 1. 1. 1. 1. 1. 1.]\n",
            " [1. 1. 1. 1. 1. 1. 1. 1. 1. 1.]\n",
            " [1. 1. 1. 1. 1. 1. 1. 1. 1. 1.]\n",
            " [1. 1. 1. 1. 1. 1. 1. 1. 1. 1.]\n",
            " [1. 1. 1. 1. 1. 1. 1. 1. 1. 1.]\n",
            " [1. 1. 1. 1. 1. 1. 1. 1. 1. 1.]], shape=(10, 10), dtype=float32)\n"
          ]
        }
      ]
    },
    {
      "cell_type": "markdown",
      "source": [
        "### 랜덤 텐서"
      ],
      "metadata": {
        "id": "JtEY77dK31Cz"
      }
    },
    {
      "cell_type": "code",
      "source": [
        "# 평균이 0이고 표준 편차가 1인 정규 분포에서 뽑은 난수 값으로 생성한 텐서\n",
        "x = tf.random.normal(\n",
        "    shape = (2,2),\n",
        "    mean = 0,\n",
        "    stddev = 1\n",
        "    )\n",
        "\n",
        "print(x)"
      ],
      "metadata": {
        "colab": {
          "base_uri": "https://localhost:8080/"
        },
        "id": "OXP1zzB70JHp",
        "outputId": "6f7cc494-9ff1-46b8-d6d3-45e58a990543"
      },
      "execution_count": null,
      "outputs": [
        {
          "output_type": "stream",
          "name": "stdout",
          "text": [
            "tf.Tensor(\n",
            "[[ 2.0202007   0.8895326 ]\n",
            " [-0.63770664  0.6068259 ]], shape=(2, 2), dtype=float32)\n"
          ]
        }
      ]
    },
    {
      "cell_type": "code",
      "source": [
        "# 최소값이 0이고 최대값이 1인 균등 분포에서 뽑은 난수 값으로 생성한 텐서\n",
        "x = tf.random.uniform(\n",
        "    shape = (2,2),\n",
        "    minval = 0,\n",
        "    maxval = 1\n",
        "    )\n",
        "\n",
        "print(x)"
      ],
      "metadata": {
        "colab": {
          "base_uri": "https://localhost:8080/"
        },
        "id": "lbkXd_u60MDr",
        "outputId": "90b7a0ef-aeca-47ab-f630-3f7960cd7f3a"
      },
      "execution_count": null,
      "outputs": [
        {
          "output_type": "stream",
          "name": "stdout",
          "text": [
            "tf.Tensor(\n",
            "[[0.8735938  0.05168533]\n",
            " [0.51129544 0.9813677 ]], shape=(2, 2), dtype=float32)\n"
          ]
        }
      ]
    },
    {
      "cell_type": "markdown",
      "source": [
        "# 변수 텐서"
      ],
      "metadata": {
        "id": "weIZw96136oF"
      }
    },
    {
      "cell_type": "markdown",
      "source": [
        "## 변수 텐서"
      ],
      "metadata": {
        "id": "eQ4KIXIi5G6H"
      }
    },
    {
      "cell_type": "code",
      "source": [
        "x = tf.Variable(\n",
        "    initial_value = tf.random.normal(shape = (3,1))\n",
        "    )\n",
        "\n",
        "print(x)"
      ],
      "metadata": {
        "colab": {
          "base_uri": "https://localhost:8080/"
        },
        "id": "rlfSbtDz39QR",
        "outputId": "7aabb469-c86a-488f-ba37-b7a0fb5e1a3d"
      },
      "execution_count": null,
      "outputs": [
        {
          "output_type": "stream",
          "name": "stdout",
          "text": [
            "<tf.Variable 'Variable:0' shape=(3, 1) dtype=float32, numpy=\n",
            "array([[-0.5288062 ],\n",
            "       [-0.7936362 ],\n",
            "       [-0.67070675]], dtype=float32)>\n"
          ]
        }
      ]
    },
    {
      "cell_type": "markdown",
      "source": [
        "## 원소 갱신하기"
      ],
      "metadata": {
        "id": "QgZJ1lOr5Ie8"
      }
    },
    {
      "cell_type": "code",
      "source": [
        "# 값을 갱신할 수 있음\n",
        "x[0,0].assign(3)"
      ],
      "metadata": {
        "colab": {
          "base_uri": "https://localhost:8080/"
        },
        "id": "fagdhV7R4JOR",
        "outputId": "39864779-448c-4403-d542-b6070b1fb4f8"
      },
      "execution_count": null,
      "outputs": [
        {
          "output_type": "execute_result",
          "data": {
            "text/plain": [
              "<tf.Variable 'UnreadVariable' shape=(3, 1) dtype=float32, numpy=\n",
              "array([[ 3.        ],\n",
              "       [-0.7936362 ],\n",
              "       [-0.67070675]], dtype=float32)>"
            ]
          },
          "metadata": {},
          "execution_count": 15
        }
      ]
    },
    {
      "cell_type": "code",
      "source": [
        "# +=\n",
        "x.assign_add(\n",
        "    tf.ones(shape = (3,1))\n",
        "    )"
      ],
      "metadata": {
        "colab": {
          "base_uri": "https://localhost:8080/"
        },
        "id": "owpPH3mG4U3C",
        "outputId": "1ffc8593-83ab-492c-e1b8-238c4c7906b4"
      },
      "execution_count": null,
      "outputs": [
        {
          "output_type": "execute_result",
          "data": {
            "text/plain": [
              "<tf.Variable 'UnreadVariable' shape=(3, 1) dtype=float32, numpy=\n",
              "array([[4.        ],\n",
              "       [0.2063638 ],\n",
              "       [0.32929325]], dtype=float32)>"
            ]
          },
          "metadata": {},
          "execution_count": 18
        }
      ]
    },
    {
      "cell_type": "code",
      "source": [
        "# -=\n",
        "x.assign_sub(\n",
        "    tf.ones(shape = (3,1))\n",
        "    )"
      ],
      "metadata": {
        "colab": {
          "base_uri": "https://localhost:8080/"
        },
        "id": "-m0Whua94ler",
        "outputId": "2853c1e9-1f7f-4962-ee3b-8e38eaddffc9"
      },
      "execution_count": null,
      "outputs": [
        {
          "output_type": "execute_result",
          "data": {
            "text/plain": [
              "<tf.Variable 'UnreadVariable' shape=(3, 1) dtype=float32, numpy=\n",
              "array([[ 3.        ],\n",
              "       [-0.7936362 ],\n",
              "       [-0.67070675]], dtype=float32)>"
            ]
          },
          "metadata": {},
          "execution_count": 19
        }
      ]
    },
    {
      "cell_type": "markdown",
      "source": [
        "# 변환"
      ],
      "metadata": {
        "id": "1aZLa0Um-B6_"
      }
    },
    {
      "cell_type": "code",
      "source": [
        "x = tf.Variable(\n",
        "    initial_value = tf.random.normal(shape = (3,4,2))\n",
        "    )"
      ],
      "metadata": {
        "id": "A_eMg1QCCARu"
      },
      "execution_count": null,
      "outputs": []
    },
    {
      "cell_type": "markdown",
      "source": [
        "## 자료형 변환"
      ],
      "metadata": {
        "id": "kQ8dJ-_T-DHr"
      }
    },
    {
      "cell_type": "code",
      "source": [
        "x.dtype"
      ],
      "metadata": {
        "colab": {
          "base_uri": "https://localhost:8080/"
        },
        "id": "7wqHtAi5CGAV",
        "outputId": "747a8283-1564-4c05-9c09-2f1e03b44694"
      },
      "execution_count": null,
      "outputs": [
        {
          "output_type": "execute_result",
          "data": {
            "text/plain": [
              "tf.float32"
            ]
          },
          "metadata": {},
          "execution_count": 3
        }
      ]
    },
    {
      "cell_type": "code",
      "source": [
        "x = tf.cast(\n",
        "    x = x,\n",
        "    dtype = tf.float64\n",
        "    )"
      ],
      "metadata": {
        "id": "qlp0TaKK-EHv"
      },
      "execution_count": null,
      "outputs": []
    },
    {
      "cell_type": "code",
      "source": [
        "x.dtype"
      ],
      "metadata": {
        "id": "kCgjVVAVZC_d",
        "colab": {
          "base_uri": "https://localhost:8080/"
        },
        "outputId": "aa43d39c-44b0-4df3-f37b-2f9a0804705b"
      },
      "execution_count": null,
      "outputs": [
        {
          "output_type": "execute_result",
          "data": {
            "text/plain": [
              "tf.float64"
            ]
          },
          "metadata": {},
          "execution_count": 7
        }
      ]
    },
    {
      "cell_type": "markdown",
      "source": [
        "## 크기 변환"
      ],
      "metadata": {
        "id": "6sllv1Kr-EYv"
      }
    },
    {
      "cell_type": "code",
      "source": [
        "tf.reshape(\n",
        "    tensor = x,\n",
        "    shape = (4,2,3)\n",
        "    )"
      ],
      "metadata": {
        "colab": {
          "base_uri": "https://localhost:8080/"
        },
        "id": "T2l-uLMe-Fnr",
        "outputId": "a8669594-ed3a-4b7f-91b0-23b5c095f0ef"
      },
      "execution_count": null,
      "outputs": [
        {
          "output_type": "execute_result",
          "data": {
            "text/plain": [
              "<tf.Tensor: shape=(4, 2, 3), dtype=float32, numpy=\n",
              "array([[[ 0.9430902 , -0.41770342,  0.41375807],\n",
              "        [-0.2311434 ,  2.0530436 ,  2.0826113 ]],\n",
              "\n",
              "       [[-0.5347682 , -0.9913871 , -2.4695716 ],\n",
              "        [-0.8565756 , -2.3890352 , -0.32607433]],\n",
              "\n",
              "       [[-0.08985647,  0.39682317,  0.5490823 ],\n",
              "        [ 0.13943157, -1.1810787 , -0.00457868]],\n",
              "\n",
              "       [[-0.88585865, -1.6687293 ,  0.4365611 ],\n",
              "        [ 1.1611979 , -3.2304447 , -0.43596703]]], dtype=float32)>"
            ]
          },
          "metadata": {},
          "execution_count": 36
        }
      ]
    },
    {
      "cell_type": "markdown",
      "source": [
        "## 전치"
      ],
      "metadata": {
        "id": "XsufwwIY-F8y"
      }
    },
    {
      "cell_type": "code",
      "source": [
        "tf.transpose(x)"
      ],
      "metadata": {
        "id": "KbpF4dL3-IBB",
        "colab": {
          "base_uri": "https://localhost:8080/"
        },
        "outputId": "77e26a1c-6689-45e6-ad58-406ab79497c9"
      },
      "execution_count": null,
      "outputs": [
        {
          "output_type": "execute_result",
          "data": {
            "text/plain": [
              "<tf.Tensor: shape=(2, 4, 3), dtype=float32, numpy=\n",
              "array([[[ 0.9430902 , -2.4695716 , -1.1810787 ],\n",
              "        [ 0.41375807, -2.3890352 , -0.88585865],\n",
              "        [ 2.0530436 , -0.08985647,  0.4365611 ],\n",
              "        [-0.5347682 ,  0.5490823 , -3.2304447 ]],\n",
              "\n",
              "       [[-0.41770342, -0.8565756 , -0.00457868],\n",
              "        [-0.2311434 , -0.32607433, -1.6687293 ],\n",
              "        [ 2.0826113 ,  0.39682317,  1.1611979 ],\n",
              "        [-0.9913871 ,  0.13943157, -0.43596703]]], dtype=float32)>"
            ]
          },
          "metadata": {},
          "execution_count": 37
        }
      ]
    },
    {
      "cell_type": "code",
      "source": [
        "tf.transpose(\n",
        "    x,\n",
        "    perm = (0,2,1)\n",
        "    )"
      ],
      "metadata": {
        "colab": {
          "base_uri": "https://localhost:8080/"
        },
        "id": "SKse0bviopUx",
        "outputId": "a0f16bb7-c766-4c47-bf01-f1c7593b023c"
      },
      "execution_count": null,
      "outputs": [
        {
          "output_type": "execute_result",
          "data": {
            "text/plain": [
              "<tf.Tensor: shape=(3, 2, 4), dtype=float32, numpy=\n",
              "array([[[ 0.9430902 ,  0.41375807,  2.0530436 , -0.5347682 ],\n",
              "        [-0.41770342, -0.2311434 ,  2.0826113 , -0.9913871 ]],\n",
              "\n",
              "       [[-2.4695716 , -2.3890352 , -0.08985647,  0.5490823 ],\n",
              "        [-0.8565756 , -0.32607433,  0.39682317,  0.13943157]],\n",
              "\n",
              "       [[-1.1810787 , -0.88585865,  0.4365611 , -3.2304447 ],\n",
              "        [-0.00457868, -1.6687293 ,  1.1611979 , -0.43596703]]],\n",
              "      dtype=float32)>"
            ]
          },
          "metadata": {},
          "execution_count": 38
        }
      ]
    },
    {
      "cell_type": "markdown",
      "source": [
        "# 연산"
      ],
      "metadata": {
        "id": "GRqwqiErA5Tj"
      }
    },
    {
      "cell_type": "code",
      "source": [
        "x = tf.Variable(\n",
        "    initial_value = tf.random.normal(shape = (3,3))\n",
        "    )\n",
        "\n",
        "y = tf.Variable(\n",
        "    initial_value = tf.random.normal(shape = (3,3))\n",
        "    )\n",
        "\n",
        "z = tf.Variable(\n",
        "    initial_value = [[1.,1.,1.]]\n",
        "    )"
      ],
      "metadata": {
        "id": "8jao0MtCA6mx"
      },
      "execution_count": null,
      "outputs": []
    },
    {
      "cell_type": "markdown",
      "source": [
        "## 덧셈과 뺄셈"
      ],
      "metadata": {
        "id": "q-kQkx7pDCfz"
      }
    },
    {
      "cell_type": "code",
      "source": [
        "tf.add(x, y)"
      ],
      "metadata": {
        "colab": {
          "base_uri": "https://localhost:8080/"
        },
        "id": "taRTpFrfcESy",
        "outputId": "27b83bc4-c5dc-4e2e-867c-b4826674c3f8"
      },
      "execution_count": null,
      "outputs": [
        {
          "output_type": "execute_result",
          "data": {
            "text/plain": [
              "<tf.Tensor: shape=(3, 3), dtype=float32, numpy=\n",
              "array([[-1.7071117 ,  1.165798  ,  2.227912  ],\n",
              "       [ 0.9599832 , -0.28301245, -1.0775944 ],\n",
              "       [-2.148121  ,  1.5105977 , -0.31958118]], dtype=float32)>"
            ]
          },
          "metadata": {},
          "execution_count": 12
        }
      ]
    },
    {
      "cell_type": "code",
      "source": [
        "tf.subtract(x, y)"
      ],
      "metadata": {
        "colab": {
          "base_uri": "https://localhost:8080/"
        },
        "id": "Z8VKhqxqcLU6",
        "outputId": "27a963d7-829f-4ec5-95aa-71603e7ac1c7"
      },
      "execution_count": null,
      "outputs": [
        {
          "output_type": "execute_result",
          "data": {
            "text/plain": [
              "<tf.Tensor: shape=(3, 3), dtype=float32, numpy=\n",
              "array([[-0.65363204, -0.9392159 ,  0.11744046],\n",
              "       [ 4.146922  , -1.7127249 ,  1.7348319 ],\n",
              "       [-0.25205845,  1.2110729 ,  0.6548947 ]], dtype=float32)>"
            ]
          },
          "metadata": {},
          "execution_count": 14
        }
      ]
    },
    {
      "cell_type": "markdown",
      "source": [
        "## 점곱"
      ],
      "metadata": {
        "id": "zKi3DwSPDHJp"
      }
    },
    {
      "cell_type": "code",
      "source": [
        "tf.matmul(x, y)"
      ],
      "metadata": {
        "id": "RqGb_mV4DGzl",
        "colab": {
          "base_uri": "https://localhost:8080/"
        },
        "outputId": "4e6fd227-b1b9-4cd9-dde1-fa5360c5fed6"
      },
      "execution_count": null,
      "outputs": [
        {
          "output_type": "execute_result",
          "data": {
            "text/plain": [
              "<tf.Tensor: shape=(3, 3), dtype=float32, numpy=\n",
              "array([[-0.67051077, -0.98574007, -1.9762542 ],\n",
              "       [-0.0664728 ,  2.023409  ,  3.9375951 ],\n",
              "       [-1.6952584 , -0.26519257, -3.2616909 ]], dtype=float32)>"
            ]
          },
          "metadata": {},
          "execution_count": 15
        }
      ]
    },
    {
      "cell_type": "markdown",
      "source": [
        "## 자승과 자승근"
      ],
      "metadata": {
        "id": "lIYytNEKDFdr"
      }
    },
    {
      "cell_type": "code",
      "source": [
        "tf.square(x)"
      ],
      "metadata": {
        "id": "xHDgnKjXDJJd",
        "colab": {
          "base_uri": "https://localhost:8080/"
        },
        "outputId": "f64aa0c6-02d0-44ee-c9d6-60cd8e5db136"
      },
      "execution_count": null,
      "outputs": [
        {
          "output_type": "execute_result",
          "data": {
            "text/plain": [
              "<tf.Tensor: shape=(3, 3), dtype=float32, numpy=\n",
              "array([[1.3932778 , 0.01283485, 1.3751695 ],\n",
              "       [6.5201206 , 0.99574196, 0.10799027],\n",
              "       [1.4402156 , 1.8518728 , 0.0281088 ]], dtype=float32)>"
            ]
          },
          "metadata": {},
          "execution_count": 16
        }
      ]
    },
    {
      "cell_type": "code",
      "source": [
        "tf.sqrt(x)"
      ],
      "metadata": {
        "colab": {
          "base_uri": "https://localhost:8080/"
        },
        "id": "F3pbBdjBmRds",
        "outputId": "aec44ab5-d06d-496e-cc87-a8cf8695152e"
      },
      "execution_count": null,
      "outputs": [
        {
          "output_type": "execute_result",
          "data": {
            "text/plain": [
              "<tf.Tensor: shape=(3, 3), dtype=float32, numpy=\n",
              "array([[       nan, 0.33658728, 1.0829017 ],\n",
              "       [1.5979527 ,        nan, 0.57325274],\n",
              "       [       nan, 1.1665485 , 0.40945914]], dtype=float32)>"
            ]
          },
          "metadata": {},
          "execution_count": 18
        }
      ]
    },
    {
      "cell_type": "markdown",
      "source": [
        "## 브로드캐스팅\n",
        "\n",
        "<p align=\"center\"><img alt=\"브로드캐스팅\" src=\"https://github.com/jayarnim/jayarnim/assets/116495744/0dfee6de-9e31-4871-9375-ede5e57ee276\" width=100%></p>"
      ],
      "metadata": {
        "id": "7Rg6MM2VC2R1"
      }
    },
    {
      "cell_type": "code",
      "source": [
        "x"
      ],
      "metadata": {
        "id": "77cgnwziC3uL",
        "colab": {
          "base_uri": "https://localhost:8080/"
        },
        "outputId": "fbc7e1da-e242-40ce-8242-9d03b962d245"
      },
      "execution_count": null,
      "outputs": [
        {
          "output_type": "execute_result",
          "data": {
            "text/plain": [
              "<tf.Variable 'Variable:0' shape=(3, 3) dtype=float32, numpy=\n",
              "array([[ 0.26896673,  1.0450807 ,  1.5663651 ],\n",
              "       [ 0.5709398 , -0.24528983, -1.4665773 ],\n",
              "       [ 1.4563224 , -1.4952632 , -0.2827511 ]], dtype=float32)>"
            ]
          },
          "metadata": {},
          "execution_count": 28
        }
      ]
    },
    {
      "cell_type": "code",
      "source": [
        "z"
      ],
      "metadata": {
        "colab": {
          "base_uri": "https://localhost:8080/"
        },
        "id": "eSf2PYc2oCRE",
        "outputId": "b0521cd2-2c4b-42b6-eb31-78c6183c5e81"
      },
      "execution_count": null,
      "outputs": [
        {
          "output_type": "execute_result",
          "data": {
            "text/plain": [
              "<tf.Variable 'Variable:0' shape=(1, 3) dtype=float32, numpy=array([[1., 1., 1.]], dtype=float32)>"
            ]
          },
          "metadata": {},
          "execution_count": 29
        }
      ]
    },
    {
      "cell_type": "code",
      "source": [
        "tf.subtract(x,z)"
      ],
      "metadata": {
        "colab": {
          "base_uri": "https://localhost:8080/"
        },
        "id": "WZB1PrnBoAkL",
        "outputId": "60687063-4402-449a-d82e-520d7f9fd7b2"
      },
      "execution_count": null,
      "outputs": [
        {
          "output_type": "execute_result",
          "data": {
            "text/plain": [
              "<tf.Tensor: shape=(3, 3), dtype=float32, numpy=\n",
              "array([[-0.73103327,  0.04508066,  0.5663651 ],\n",
              "       [-0.42906022, -1.2452898 , -2.4665773 ],\n",
              "       [ 0.45632243, -2.495263  , -1.2827511 ]], dtype=float32)>"
            ]
          },
          "metadata": {},
          "execution_count": 26
        }
      ]
    }
  ]
}